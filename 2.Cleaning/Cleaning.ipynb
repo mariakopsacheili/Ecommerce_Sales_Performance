{
 "cells": [
  {
   "cell_type": "code",
   "execution_count": 2,
   "metadata": {},
   "outputs": [],
   "source": [
    "# Import necessary libraries\n",
    "import pandas as pd\n",
    "import numpy as np\n",
    "import matplotlib.pyplot as plt\n",
    "import seaborn as sns\n",
    "\n",
    "# Set visualization theme and configurations\n",
    "sns.set_theme()\n",
    "from datetime import timedelta, datetime\n",
    "\n",
    "import warnings\n",
    "warnings.filterwarnings(\"ignore\") # Ignore warnings for cleaner output\n",
    "pd.set_option('display.max_columns', None) # Display all columns in DataFrame outputs"
   ]
  },
  {
   "cell_type": "markdown",
   "metadata": {},
   "source": [
    "# First Dataset"
   ]
  },
  {
   "cell_type": "code",
   "execution_count": 3,
   "metadata": {},
   "outputs": [],
   "source": [
    "ecommerce = pd.read_csv('Ecommerce_data.csv')"
   ]
  },
  {
   "cell_type": "code",
   "execution_count": 4,
   "metadata": {},
   "outputs": [
    {
     "data": {
      "text/html": [
       "<div>\n",
       "<style scoped>\n",
       "    .dataframe tbody tr th:only-of-type {\n",
       "        vertical-align: middle;\n",
       "    }\n",
       "\n",
       "    .dataframe tbody tr th {\n",
       "        vertical-align: top;\n",
       "    }\n",
       "\n",
       "    .dataframe thead th {\n",
       "        text-align: right;\n",
       "    }\n",
       "</style>\n",
       "<table border=\"1\" class=\"dataframe\">\n",
       "  <thead>\n",
       "    <tr style=\"text-align: right;\">\n",
       "      <th></th>\n",
       "      <th>customer_id</th>\n",
       "      <th>customer_first_name</th>\n",
       "      <th>customer_last_name</th>\n",
       "      <th>category_name</th>\n",
       "      <th>product_name</th>\n",
       "      <th>customer_segment</th>\n",
       "      <th>customer_city</th>\n",
       "      <th>customer_state</th>\n",
       "      <th>customer_country</th>\n",
       "      <th>customer_region</th>\n",
       "      <th>delivery_status</th>\n",
       "      <th>order_date</th>\n",
       "      <th>order_id</th>\n",
       "      <th>ship_date</th>\n",
       "      <th>shipping_type</th>\n",
       "      <th>days_for_shipment_scheduled</th>\n",
       "      <th>days_for_shipment_real</th>\n",
       "      <th>order_item_discount</th>\n",
       "      <th>sales_per_order</th>\n",
       "      <th>order_quantity</th>\n",
       "      <th>profit_per_order</th>\n",
       "    </tr>\n",
       "  </thead>\n",
       "  <tbody>\n",
       "    <tr>\n",
       "      <th>0</th>\n",
       "      <td>C_ID_45866</td>\n",
       "      <td>Mary</td>\n",
       "      <td>Fuller</td>\n",
       "      <td>Office Supplies</td>\n",
       "      <td>Xerox 1913</td>\n",
       "      <td>Corporate</td>\n",
       "      <td>New Rochelle</td>\n",
       "      <td>New York</td>\n",
       "      <td>United States</td>\n",
       "      <td>East</td>\n",
       "      <td>Shipping on time</td>\n",
       "      <td>11/5/2022</td>\n",
       "      <td>O_ID_3001072</td>\n",
       "      <td>11/7/2022</td>\n",
       "      <td>Second Class</td>\n",
       "      <td>2</td>\n",
       "      <td>2</td>\n",
       "      <td>35.0</td>\n",
       "      <td>500.0</td>\n",
       "      <td>5</td>\n",
       "      <td>223.199997</td>\n",
       "    </tr>\n",
       "    <tr>\n",
       "      <th>1</th>\n",
       "      <td>C_ID_44932</td>\n",
       "      <td>Alan</td>\n",
       "      <td>Edelman</td>\n",
       "      <td>Office Supplies</td>\n",
       "      <td>#6 3/4 Gummed Flap White Envelopes</td>\n",
       "      <td>Corporate</td>\n",
       "      <td>Houston</td>\n",
       "      <td>Texas</td>\n",
       "      <td>United States</td>\n",
       "      <td>Central</td>\n",
       "      <td>Shipping canceled</td>\n",
       "      <td>20-06-2022</td>\n",
       "      <td>O_ID_3009170</td>\n",
       "      <td>23-06-2022</td>\n",
       "      <td>Second Class</td>\n",
       "      <td>2</td>\n",
       "      <td>3</td>\n",
       "      <td>85.0</td>\n",
       "      <td>500.0</td>\n",
       "      <td>5</td>\n",
       "      <td>199.199997</td>\n",
       "    </tr>\n",
       "    <tr>\n",
       "      <th>2</th>\n",
       "      <td>C_ID_70880</td>\n",
       "      <td>Mary</td>\n",
       "      <td>Gayman</td>\n",
       "      <td>Office Supplies</td>\n",
       "      <td>Belkin 8 Outlet Surge Protector</td>\n",
       "      <td>Consumer</td>\n",
       "      <td>Louisville</td>\n",
       "      <td>Kentucky</td>\n",
       "      <td>United States</td>\n",
       "      <td>South</td>\n",
       "      <td>Late delivery</td>\n",
       "      <td>25-06-2022</td>\n",
       "      <td>O_ID_3047567</td>\n",
       "      <td>30-06-2022</td>\n",
       "      <td>Standard Class</td>\n",
       "      <td>4</td>\n",
       "      <td>5</td>\n",
       "      <td>75.0</td>\n",
       "      <td>44.0</td>\n",
       "      <td>5</td>\n",
       "      <td>195.500000</td>\n",
       "    </tr>\n",
       "    <tr>\n",
       "      <th>3</th>\n",
       "      <td>C_ID_33157</td>\n",
       "      <td>Raymond</td>\n",
       "      <td>Eason</td>\n",
       "      <td>Office Supplies</td>\n",
       "      <td>GBC VeloBinder Manual Binding System</td>\n",
       "      <td>Corporate</td>\n",
       "      <td>Chicago</td>\n",
       "      <td>Illinois</td>\n",
       "      <td>United States</td>\n",
       "      <td>Central</td>\n",
       "      <td>Late delivery</td>\n",
       "      <td>10/6/2022</td>\n",
       "      <td>O_ID_3060575</td>\n",
       "      <td>10/10/2022</td>\n",
       "      <td>Second Class</td>\n",
       "      <td>2</td>\n",
       "      <td>4</td>\n",
       "      <td>60.0</td>\n",
       "      <td>254.0</td>\n",
       "      <td>1</td>\n",
       "      <td>220.000000</td>\n",
       "    </tr>\n",
       "    <tr>\n",
       "      <th>4</th>\n",
       "      <td>C_ID_58303</td>\n",
       "      <td>Mary</td>\n",
       "      <td>Gonzalez</td>\n",
       "      <td>Furniture</td>\n",
       "      <td>Eldon Pizzaz Desk Accessories</td>\n",
       "      <td>Home Office</td>\n",
       "      <td>Philadelphia</td>\n",
       "      <td>Pennsylvania</td>\n",
       "      <td>United States</td>\n",
       "      <td>East</td>\n",
       "      <td>Late delivery</td>\n",
       "      <td>2/5/2022</td>\n",
       "      <td>O_ID_3064311</td>\n",
       "      <td>8/1/2022</td>\n",
       "      <td>First Class</td>\n",
       "      <td>1</td>\n",
       "      <td>2</td>\n",
       "      <td>125.0</td>\n",
       "      <td>500.0</td>\n",
       "      <td>1</td>\n",
       "      <td>97.500000</td>\n",
       "    </tr>\n",
       "  </tbody>\n",
       "</table>\n",
       "</div>"
      ],
      "text/plain": [
       "  customer_id customer_first_name customer_last_name    category_name  \\\n",
       "0  C_ID_45866                Mary             Fuller  Office Supplies   \n",
       "1  C_ID_44932                Alan            Edelman  Office Supplies   \n",
       "2  C_ID_70880                Mary             Gayman  Office Supplies   \n",
       "3  C_ID_33157             Raymond              Eason  Office Supplies   \n",
       "4  C_ID_58303                Mary           Gonzalez        Furniture   \n",
       "\n",
       "                           product_name customer_segment customer_city  \\\n",
       "0                            Xerox 1913        Corporate  New Rochelle   \n",
       "1    #6 3/4 Gummed Flap White Envelopes        Corporate       Houston   \n",
       "2       Belkin 8 Outlet Surge Protector         Consumer    Louisville   \n",
       "3  GBC VeloBinder Manual Binding System        Corporate       Chicago   \n",
       "4         Eldon Pizzaz Desk Accessories      Home Office  Philadelphia   \n",
       "\n",
       "  customer_state customer_country customer_region    delivery_status  \\\n",
       "0       New York    United States            East   Shipping on time   \n",
       "1          Texas    United States         Central  Shipping canceled   \n",
       "2       Kentucky    United States           South      Late delivery   \n",
       "3       Illinois    United States         Central      Late delivery   \n",
       "4   Pennsylvania    United States            East      Late delivery   \n",
       "\n",
       "   order_date      order_id   ship_date   shipping_type  \\\n",
       "0   11/5/2022  O_ID_3001072   11/7/2022    Second Class   \n",
       "1  20-06-2022  O_ID_3009170  23-06-2022    Second Class   \n",
       "2  25-06-2022  O_ID_3047567  30-06-2022  Standard Class   \n",
       "3   10/6/2022  O_ID_3060575  10/10/2022    Second Class   \n",
       "4    2/5/2022  O_ID_3064311    8/1/2022     First Class   \n",
       "\n",
       "   days_for_shipment_scheduled  days_for_shipment_real  order_item_discount  \\\n",
       "0                            2                       2                 35.0   \n",
       "1                            2                       3                 85.0   \n",
       "2                            4                       5                 75.0   \n",
       "3                            2                       4                 60.0   \n",
       "4                            1                       2                125.0   \n",
       "\n",
       "   sales_per_order  order_quantity  profit_per_order  \n",
       "0            500.0               5        223.199997  \n",
       "1            500.0               5        199.199997  \n",
       "2             44.0               5        195.500000  \n",
       "3            254.0               1        220.000000  \n",
       "4            500.0               1         97.500000  "
      ]
     },
     "execution_count": 4,
     "metadata": {},
     "output_type": "execute_result"
    }
   ],
   "source": [
    "ecommerce.head()"
   ]
  },
  {
   "cell_type": "code",
   "execution_count": 5,
   "metadata": {},
   "outputs": [
    {
     "data": {
      "text/plain": [
       "(113270, 21)"
      ]
     },
     "execution_count": 5,
     "metadata": {},
     "output_type": "execute_result"
    }
   ],
   "source": [
    "ecommerce.shape"
   ]
  },
  {
   "cell_type": "code",
   "execution_count": 6,
   "metadata": {},
   "outputs": [
    {
     "name": "stdout",
     "output_type": "stream",
     "text": [
      "<class 'pandas.core.frame.DataFrame'>\n",
      "RangeIndex: 113270 entries, 0 to 113269\n",
      "Data columns (total 21 columns):\n",
      " #   Column                       Non-Null Count   Dtype  \n",
      "---  ------                       --------------   -----  \n",
      " 0   customer_id                  113270 non-null  object \n",
      " 1   customer_first_name          113270 non-null  object \n",
      " 2   customer_last_name           113270 non-null  object \n",
      " 3   category_name                113270 non-null  object \n",
      " 4   product_name                 113270 non-null  object \n",
      " 5   customer_segment             113270 non-null  object \n",
      " 6   customer_city                113270 non-null  object \n",
      " 7   customer_state               113270 non-null  object \n",
      " 8   customer_country             113270 non-null  object \n",
      " 9   customer_region              113270 non-null  object \n",
      " 10  delivery_status              113270 non-null  object \n",
      " 11  order_date                   113270 non-null  object \n",
      " 12  order_id                     113270 non-null  object \n",
      " 13  ship_date                    113270 non-null  object \n",
      " 14  shipping_type                113270 non-null  object \n",
      " 15  days_for_shipment_scheduled  113270 non-null  int64  \n",
      " 16  days_for_shipment_real       113270 non-null  int64  \n",
      " 17  order_item_discount          113270 non-null  float64\n",
      " 18  sales_per_order              113270 non-null  float64\n",
      " 19  order_quantity               113270 non-null  int64  \n",
      " 20  profit_per_order             113270 non-null  float64\n",
      "dtypes: float64(3), int64(3), object(15)\n",
      "memory usage: 18.1+ MB\n"
     ]
    }
   ],
   "source": [
    "ecommerce.info()"
   ]
  },
  {
   "cell_type": "code",
   "execution_count": 7,
   "metadata": {},
   "outputs": [
    {
     "data": {
      "text/plain": [
       "customer_id                    0\n",
       "customer_first_name            0\n",
       "customer_last_name             0\n",
       "category_name                  0\n",
       "product_name                   0\n",
       "customer_segment               0\n",
       "customer_city                  0\n",
       "customer_state                 0\n",
       "customer_country               0\n",
       "customer_region                0\n",
       "delivery_status                0\n",
       "order_date                     0\n",
       "order_id                       0\n",
       "ship_date                      0\n",
       "shipping_type                  0\n",
       "days_for_shipment_scheduled    0\n",
       "days_for_shipment_real         0\n",
       "order_item_discount            0\n",
       "sales_per_order                0\n",
       "order_quantity                 0\n",
       "profit_per_order               0\n",
       "dtype: int64"
      ]
     },
     "execution_count": 7,
     "metadata": {},
     "output_type": "execute_result"
    }
   ],
   "source": [
    "#checking for nulls\n",
    "ecommerce.isnull().sum()"
   ]
  },
  {
   "cell_type": "code",
   "execution_count": 8,
   "metadata": {},
   "outputs": [],
   "source": [
    "# Replace '/' with '-' in order to convert after to datetime\n",
    "ecommerce['order_date'] = ecommerce['order_date'].str.replace('/', '-')\n",
    "ecommerce['ship_date'] = ecommerce['ship_date'].str.replace('/', '-')"
   ]
  },
  {
   "cell_type": "code",
   "execution_count": 9,
   "metadata": {},
   "outputs": [],
   "source": [
    "# convert columns to date time\n",
    "ecommerce['order_date'] = pd.to_datetime(ecommerce['order_date'], format='%d-%m-%Y')\n",
    "ecommerce['ship_date'] = pd.to_datetime(ecommerce['ship_date'], format='%d-%m-%Y')"
   ]
  },
  {
   "cell_type": "code",
   "execution_count": 10,
   "metadata": {},
   "outputs": [
    {
     "data": {
      "text/html": [
       "<div>\n",
       "<style scoped>\n",
       "    .dataframe tbody tr th:only-of-type {\n",
       "        vertical-align: middle;\n",
       "    }\n",
       "\n",
       "    .dataframe tbody tr th {\n",
       "        vertical-align: top;\n",
       "    }\n",
       "\n",
       "    .dataframe thead th {\n",
       "        text-align: right;\n",
       "    }\n",
       "</style>\n",
       "<table border=\"1\" class=\"dataframe\">\n",
       "  <thead>\n",
       "    <tr style=\"text-align: right;\">\n",
       "      <th></th>\n",
       "      <th>order_date</th>\n",
       "      <th>ship_date</th>\n",
       "      <th>days_for_shipment_scheduled</th>\n",
       "      <th>days_for_shipment_real</th>\n",
       "      <th>order_item_discount</th>\n",
       "      <th>sales_per_order</th>\n",
       "      <th>order_quantity</th>\n",
       "      <th>profit_per_order</th>\n",
       "    </tr>\n",
       "  </thead>\n",
       "  <tbody>\n",
       "    <tr>\n",
       "      <th>count</th>\n",
       "      <td>113270</td>\n",
       "      <td>113270</td>\n",
       "      <td>113270.000000</td>\n",
       "      <td>113270.000000</td>\n",
       "      <td>113270.000000</td>\n",
       "      <td>113270.000000</td>\n",
       "      <td>113270.000000</td>\n",
       "      <td>113270.000000</td>\n",
       "    </tr>\n",
       "    <tr>\n",
       "      <th>mean</th>\n",
       "      <td>2021-12-11 19:54:08.613048576</td>\n",
       "      <td>2021-12-14 16:48:40.427297536</td>\n",
       "      <td>2.931209</td>\n",
       "      <td>3.464006</td>\n",
       "      <td>21.105465</td>\n",
       "      <td>204.499537</td>\n",
       "      <td>1.967564</td>\n",
       "      <td>23.069382</td>\n",
       "    </tr>\n",
       "    <tr>\n",
       "      <th>min</th>\n",
       "      <td>2021-01-04 00:00:00</td>\n",
       "      <td>2021-01-05 00:00:00</td>\n",
       "      <td>0.000000</td>\n",
       "      <td>0.000000</td>\n",
       "      <td>0.000000</td>\n",
       "      <td>9.990000</td>\n",
       "      <td>1.000000</td>\n",
       "      <td>-3366.000000</td>\n",
       "    </tr>\n",
       "    <tr>\n",
       "      <th>25%</th>\n",
       "      <td>2021-06-22 00:00:00</td>\n",
       "      <td>2021-06-25 00:00:00</td>\n",
       "      <td>2.000000</td>\n",
       "      <td>2.000000</td>\n",
       "      <td>5.500000</td>\n",
       "      <td>119.980003</td>\n",
       "      <td>1.000000</td>\n",
       "      <td>7.200000</td>\n",
       "    </tr>\n",
       "    <tr>\n",
       "      <th>50%</th>\n",
       "      <td>2021-12-06 00:00:00</td>\n",
       "      <td>2021-12-09 00:00:00</td>\n",
       "      <td>4.000000</td>\n",
       "      <td>3.000000</td>\n",
       "      <td>14.400000</td>\n",
       "      <td>199.919998</td>\n",
       "      <td>1.000000</td>\n",
       "      <td>32.029999</td>\n",
       "    </tr>\n",
       "    <tr>\n",
       "      <th>75%</th>\n",
       "      <td>2022-05-31 00:00:00</td>\n",
       "      <td>2022-06-02 00:00:00</td>\n",
       "      <td>4.000000</td>\n",
       "      <td>5.000000</td>\n",
       "      <td>30.000000</td>\n",
       "      <td>299.950012</td>\n",
       "      <td>3.000000</td>\n",
       "      <td>65.570000</td>\n",
       "    </tr>\n",
       "    <tr>\n",
       "      <th>max</th>\n",
       "      <td>2022-12-31 00:00:00</td>\n",
       "      <td>2023-03-04 00:00:00</td>\n",
       "      <td>4.000000</td>\n",
       "      <td>6.000000</td>\n",
       "      <td>500.000000</td>\n",
       "      <td>1999.989990</td>\n",
       "      <td>5.000000</td>\n",
       "      <td>2600.000000</td>\n",
       "    </tr>\n",
       "    <tr>\n",
       "      <th>std</th>\n",
       "      <td>NaN</td>\n",
       "      <td>NaN</td>\n",
       "      <td>1.375914</td>\n",
       "      <td>1.632198</td>\n",
       "      <td>22.959207</td>\n",
       "      <td>141.443090</td>\n",
       "      <td>1.355254</td>\n",
       "      <td>105.288561</td>\n",
       "    </tr>\n",
       "  </tbody>\n",
       "</table>\n",
       "</div>"
      ],
      "text/plain": [
       "                          order_date                      ship_date  \\\n",
       "count                         113270                         113270   \n",
       "mean   2021-12-11 19:54:08.613048576  2021-12-14 16:48:40.427297536   \n",
       "min              2021-01-04 00:00:00            2021-01-05 00:00:00   \n",
       "25%              2021-06-22 00:00:00            2021-06-25 00:00:00   \n",
       "50%              2021-12-06 00:00:00            2021-12-09 00:00:00   \n",
       "75%              2022-05-31 00:00:00            2022-06-02 00:00:00   \n",
       "max              2022-12-31 00:00:00            2023-03-04 00:00:00   \n",
       "std                              NaN                            NaN   \n",
       "\n",
       "       days_for_shipment_scheduled  days_for_shipment_real  \\\n",
       "count                113270.000000           113270.000000   \n",
       "mean                      2.931209                3.464006   \n",
       "min                       0.000000                0.000000   \n",
       "25%                       2.000000                2.000000   \n",
       "50%                       4.000000                3.000000   \n",
       "75%                       4.000000                5.000000   \n",
       "max                       4.000000                6.000000   \n",
       "std                       1.375914                1.632198   \n",
       "\n",
       "       order_item_discount  sales_per_order  order_quantity  profit_per_order  \n",
       "count        113270.000000    113270.000000   113270.000000     113270.000000  \n",
       "mean             21.105465       204.499537        1.967564         23.069382  \n",
       "min               0.000000         9.990000        1.000000      -3366.000000  \n",
       "25%               5.500000       119.980003        1.000000          7.200000  \n",
       "50%              14.400000       199.919998        1.000000         32.029999  \n",
       "75%              30.000000       299.950012        3.000000         65.570000  \n",
       "max             500.000000      1999.989990        5.000000       2600.000000  \n",
       "std              22.959207       141.443090        1.355254        105.288561  "
      ]
     },
     "execution_count": 10,
     "metadata": {},
     "output_type": "execute_result"
    }
   ],
   "source": [
    "ecommerce.describe()"
   ]
  },
  {
   "cell_type": "code",
   "execution_count": 11,
   "metadata": {},
   "outputs": [
    {
     "name": "stdout",
     "output_type": "stream",
     "text": [
      "<class 'pandas.core.frame.DataFrame'>\n",
      "RangeIndex: 113270 entries, 0 to 113269\n",
      "Data columns (total 21 columns):\n",
      " #   Column                       Non-Null Count   Dtype         \n",
      "---  ------                       --------------   -----         \n",
      " 0   customer_id                  113270 non-null  object        \n",
      " 1   customer_first_name          113270 non-null  object        \n",
      " 2   customer_last_name           113270 non-null  object        \n",
      " 3   category_name                113270 non-null  object        \n",
      " 4   product_name                 113270 non-null  object        \n",
      " 5   customer_segment             113270 non-null  object        \n",
      " 6   customer_city                113270 non-null  object        \n",
      " 7   customer_state               113270 non-null  object        \n",
      " 8   customer_country             113270 non-null  object        \n",
      " 9   customer_region              113270 non-null  object        \n",
      " 10  delivery_status              113270 non-null  object        \n",
      " 11  order_date                   113270 non-null  datetime64[ns]\n",
      " 12  order_id                     113270 non-null  object        \n",
      " 13  ship_date                    113270 non-null  datetime64[ns]\n",
      " 14  shipping_type                113270 non-null  object        \n",
      " 15  days_for_shipment_scheduled  113270 non-null  int64         \n",
      " 16  days_for_shipment_real       113270 non-null  int64         \n",
      " 17  order_item_discount          113270 non-null  float64       \n",
      " 18  sales_per_order              113270 non-null  float64       \n",
      " 19  order_quantity               113270 non-null  int64         \n",
      " 20  profit_per_order             113270 non-null  float64       \n",
      "dtypes: datetime64[ns](2), float64(3), int64(3), object(13)\n",
      "memory usage: 18.1+ MB\n"
     ]
    }
   ],
   "source": [
    "ecommerce.info()"
   ]
  },
  {
   "cell_type": "code",
   "execution_count": 12,
   "metadata": {},
   "outputs": [
    {
     "data": {
      "text/html": [
       "<div>\n",
       "<style scoped>\n",
       "    .dataframe tbody tr th:only-of-type {\n",
       "        vertical-align: middle;\n",
       "    }\n",
       "\n",
       "    .dataframe tbody tr th {\n",
       "        vertical-align: top;\n",
       "    }\n",
       "\n",
       "    .dataframe thead th {\n",
       "        text-align: right;\n",
       "    }\n",
       "</style>\n",
       "<table border=\"1\" class=\"dataframe\">\n",
       "  <thead>\n",
       "    <tr style=\"text-align: right;\">\n",
       "      <th></th>\n",
       "      <th>customer_id</th>\n",
       "      <th>customer_first_name</th>\n",
       "      <th>customer_last_name</th>\n",
       "      <th>category_name</th>\n",
       "      <th>product_name</th>\n",
       "      <th>customer_segment</th>\n",
       "      <th>customer_city</th>\n",
       "      <th>customer_state</th>\n",
       "      <th>customer_country</th>\n",
       "      <th>customer_region</th>\n",
       "      <th>delivery_status</th>\n",
       "      <th>order_date</th>\n",
       "      <th>order_id</th>\n",
       "      <th>ship_date</th>\n",
       "      <th>shipping_type</th>\n",
       "      <th>days_for_shipment_scheduled</th>\n",
       "      <th>days_for_shipment_real</th>\n",
       "      <th>order_item_discount</th>\n",
       "      <th>sales_per_order</th>\n",
       "      <th>order_quantity</th>\n",
       "      <th>profit_per_order</th>\n",
       "    </tr>\n",
       "  </thead>\n",
       "  <tbody>\n",
       "    <tr>\n",
       "      <th>0</th>\n",
       "      <td>C_ID_45866</td>\n",
       "      <td>Mary</td>\n",
       "      <td>Fuller</td>\n",
       "      <td>Office Supplies</td>\n",
       "      <td>Xerox 1913</td>\n",
       "      <td>Corporate</td>\n",
       "      <td>New Rochelle</td>\n",
       "      <td>New York</td>\n",
       "      <td>United States</td>\n",
       "      <td>East</td>\n",
       "      <td>Shipping on time</td>\n",
       "      <td>2022-05-11</td>\n",
       "      <td>O_ID_3001072</td>\n",
       "      <td>2022-07-11</td>\n",
       "      <td>Second Class</td>\n",
       "      <td>2</td>\n",
       "      <td>2</td>\n",
       "      <td>35.0</td>\n",
       "      <td>500.0</td>\n",
       "      <td>5</td>\n",
       "      <td>223.199997</td>\n",
       "    </tr>\n",
       "    <tr>\n",
       "      <th>1</th>\n",
       "      <td>C_ID_44932</td>\n",
       "      <td>Alan</td>\n",
       "      <td>Edelman</td>\n",
       "      <td>Office Supplies</td>\n",
       "      <td>#6 3/4 Gummed Flap White Envelopes</td>\n",
       "      <td>Corporate</td>\n",
       "      <td>Houston</td>\n",
       "      <td>Texas</td>\n",
       "      <td>United States</td>\n",
       "      <td>Central</td>\n",
       "      <td>Shipping canceled</td>\n",
       "      <td>2022-06-20</td>\n",
       "      <td>O_ID_3009170</td>\n",
       "      <td>2022-06-23</td>\n",
       "      <td>Second Class</td>\n",
       "      <td>2</td>\n",
       "      <td>3</td>\n",
       "      <td>85.0</td>\n",
       "      <td>500.0</td>\n",
       "      <td>5</td>\n",
       "      <td>199.199997</td>\n",
       "    </tr>\n",
       "    <tr>\n",
       "      <th>2</th>\n",
       "      <td>C_ID_70880</td>\n",
       "      <td>Mary</td>\n",
       "      <td>Gayman</td>\n",
       "      <td>Office Supplies</td>\n",
       "      <td>Belkin 8 Outlet Surge Protector</td>\n",
       "      <td>Consumer</td>\n",
       "      <td>Louisville</td>\n",
       "      <td>Kentucky</td>\n",
       "      <td>United States</td>\n",
       "      <td>South</td>\n",
       "      <td>Late delivery</td>\n",
       "      <td>2022-06-25</td>\n",
       "      <td>O_ID_3047567</td>\n",
       "      <td>2022-06-30</td>\n",
       "      <td>Standard Class</td>\n",
       "      <td>4</td>\n",
       "      <td>5</td>\n",
       "      <td>75.0</td>\n",
       "      <td>44.0</td>\n",
       "      <td>5</td>\n",
       "      <td>195.500000</td>\n",
       "    </tr>\n",
       "    <tr>\n",
       "      <th>3</th>\n",
       "      <td>C_ID_33157</td>\n",
       "      <td>Raymond</td>\n",
       "      <td>Eason</td>\n",
       "      <td>Office Supplies</td>\n",
       "      <td>GBC VeloBinder Manual Binding System</td>\n",
       "      <td>Corporate</td>\n",
       "      <td>Chicago</td>\n",
       "      <td>Illinois</td>\n",
       "      <td>United States</td>\n",
       "      <td>Central</td>\n",
       "      <td>Late delivery</td>\n",
       "      <td>2022-06-10</td>\n",
       "      <td>O_ID_3060575</td>\n",
       "      <td>2022-10-10</td>\n",
       "      <td>Second Class</td>\n",
       "      <td>2</td>\n",
       "      <td>4</td>\n",
       "      <td>60.0</td>\n",
       "      <td>254.0</td>\n",
       "      <td>1</td>\n",
       "      <td>220.000000</td>\n",
       "    </tr>\n",
       "    <tr>\n",
       "      <th>4</th>\n",
       "      <td>C_ID_58303</td>\n",
       "      <td>Mary</td>\n",
       "      <td>Gonzalez</td>\n",
       "      <td>Furniture</td>\n",
       "      <td>Eldon Pizzaz Desk Accessories</td>\n",
       "      <td>Home Office</td>\n",
       "      <td>Philadelphia</td>\n",
       "      <td>Pennsylvania</td>\n",
       "      <td>United States</td>\n",
       "      <td>East</td>\n",
       "      <td>Late delivery</td>\n",
       "      <td>2022-05-02</td>\n",
       "      <td>O_ID_3064311</td>\n",
       "      <td>2022-01-08</td>\n",
       "      <td>First Class</td>\n",
       "      <td>1</td>\n",
       "      <td>2</td>\n",
       "      <td>125.0</td>\n",
       "      <td>500.0</td>\n",
       "      <td>1</td>\n",
       "      <td>97.500000</td>\n",
       "    </tr>\n",
       "  </tbody>\n",
       "</table>\n",
       "</div>"
      ],
      "text/plain": [
       "  customer_id customer_first_name customer_last_name    category_name  \\\n",
       "0  C_ID_45866                Mary             Fuller  Office Supplies   \n",
       "1  C_ID_44932                Alan            Edelman  Office Supplies   \n",
       "2  C_ID_70880                Mary             Gayman  Office Supplies   \n",
       "3  C_ID_33157             Raymond              Eason  Office Supplies   \n",
       "4  C_ID_58303                Mary           Gonzalez        Furniture   \n",
       "\n",
       "                           product_name customer_segment customer_city  \\\n",
       "0                            Xerox 1913        Corporate  New Rochelle   \n",
       "1    #6 3/4 Gummed Flap White Envelopes        Corporate       Houston   \n",
       "2       Belkin 8 Outlet Surge Protector         Consumer    Louisville   \n",
       "3  GBC VeloBinder Manual Binding System        Corporate       Chicago   \n",
       "4         Eldon Pizzaz Desk Accessories      Home Office  Philadelphia   \n",
       "\n",
       "  customer_state customer_country customer_region    delivery_status  \\\n",
       "0       New York    United States            East   Shipping on time   \n",
       "1          Texas    United States         Central  Shipping canceled   \n",
       "2       Kentucky    United States           South      Late delivery   \n",
       "3       Illinois    United States         Central      Late delivery   \n",
       "4   Pennsylvania    United States            East      Late delivery   \n",
       "\n",
       "  order_date      order_id  ship_date   shipping_type  \\\n",
       "0 2022-05-11  O_ID_3001072 2022-07-11    Second Class   \n",
       "1 2022-06-20  O_ID_3009170 2022-06-23    Second Class   \n",
       "2 2022-06-25  O_ID_3047567 2022-06-30  Standard Class   \n",
       "3 2022-06-10  O_ID_3060575 2022-10-10    Second Class   \n",
       "4 2022-05-02  O_ID_3064311 2022-01-08     First Class   \n",
       "\n",
       "   days_for_shipment_scheduled  days_for_shipment_real  order_item_discount  \\\n",
       "0                            2                       2                 35.0   \n",
       "1                            2                       3                 85.0   \n",
       "2                            4                       5                 75.0   \n",
       "3                            2                       4                 60.0   \n",
       "4                            1                       2                125.0   \n",
       "\n",
       "   sales_per_order  order_quantity  profit_per_order  \n",
       "0            500.0               5        223.199997  \n",
       "1            500.0               5        199.199997  \n",
       "2             44.0               5        195.500000  \n",
       "3            254.0               1        220.000000  \n",
       "4            500.0               1         97.500000  "
      ]
     },
     "execution_count": 12,
     "metadata": {},
     "output_type": "execute_result"
    }
   ],
   "source": [
    "ecommerce.head()"
   ]
  },
  {
   "cell_type": "code",
   "execution_count": 13,
   "metadata": {},
   "outputs": [
    {
     "data": {
      "text/plain": [
       "array(['Office Supplies', 'Furniture', 'Technology'], dtype=object)"
      ]
     },
     "execution_count": 13,
     "metadata": {},
     "output_type": "execute_result"
    }
   ],
   "source": [
    "ecommerce['category_name'].unique()"
   ]
  },
  {
   "cell_type": "code",
   "execution_count": 14,
   "metadata": {},
   "outputs": [
    {
     "data": {
      "text/plain": [
       "array(['Corporate', 'Consumer', 'Home Office'], dtype=object)"
      ]
     },
     "execution_count": 14,
     "metadata": {},
     "output_type": "execute_result"
    }
   ],
   "source": [
    "ecommerce['customer_segment'].unique()"
   ]
  },
  {
   "cell_type": "code",
   "execution_count": 15,
   "metadata": {},
   "outputs": [
    {
     "data": {
      "text/plain": [
       "array(['United States'], dtype=object)"
      ]
     },
     "execution_count": 15,
     "metadata": {},
     "output_type": "execute_result"
    }
   ],
   "source": [
    "ecommerce['customer_country'].unique()"
   ]
  },
  {
   "cell_type": "code",
   "execution_count": 16,
   "metadata": {},
   "outputs": [
    {
     "data": {
      "text/plain": [
       "array(['Second Class', 'Standard Class', 'First Class', 'Same Day'],\n",
       "      dtype=object)"
      ]
     },
     "execution_count": 16,
     "metadata": {},
     "output_type": "execute_result"
    }
   ],
   "source": [
    "ecommerce['shipping_type'].unique()"
   ]
  },
  {
   "cell_type": "code",
   "execution_count": 26,
   "metadata": {},
   "outputs": [],
   "source": [
    "ecommerce.to_csv('ecommerce_data.csv.csv')"
   ]
  },
  {
   "cell_type": "markdown",
   "metadata": {},
   "source": [
    "# Second Dataset"
   ]
  },
  {
   "cell_type": "code",
   "execution_count": 18,
   "metadata": {},
   "outputs": [],
   "source": [
    "long_lat = pd.read_csv('Longitude_Latitude_data.csv')"
   ]
  },
  {
   "cell_type": "code",
   "execution_count": 19,
   "metadata": {},
   "outputs": [
    {
     "data": {
      "text/html": [
       "<div>\n",
       "<style scoped>\n",
       "    .dataframe tbody tr th:only-of-type {\n",
       "        vertical-align: middle;\n",
       "    }\n",
       "\n",
       "    .dataframe tbody tr th {\n",
       "        vertical-align: top;\n",
       "    }\n",
       "\n",
       "    .dataframe thead th {\n",
       "        text-align: right;\n",
       "    }\n",
       "</style>\n",
       "<table border=\"1\" class=\"dataframe\">\n",
       "  <thead>\n",
       "    <tr style=\"text-align: right;\">\n",
       "      <th></th>\n",
       "      <th>state</th>\n",
       "      <th>latitude</th>\n",
       "      <th>longitude</th>\n",
       "      <th>customer_state</th>\n",
       "    </tr>\n",
       "  </thead>\n",
       "  <tbody>\n",
       "    <tr>\n",
       "      <th>0</th>\n",
       "      <td>AK</td>\n",
       "      <td>63.588753</td>\n",
       "      <td>-154.493062</td>\n",
       "      <td>Alaska</td>\n",
       "    </tr>\n",
       "    <tr>\n",
       "      <th>1</th>\n",
       "      <td>AL</td>\n",
       "      <td>32.318231</td>\n",
       "      <td>-86.902298</td>\n",
       "      <td>Alabama</td>\n",
       "    </tr>\n",
       "    <tr>\n",
       "      <th>2</th>\n",
       "      <td>AR</td>\n",
       "      <td>35.201050</td>\n",
       "      <td>-91.831833</td>\n",
       "      <td>Arkansas</td>\n",
       "    </tr>\n",
       "    <tr>\n",
       "      <th>3</th>\n",
       "      <td>AZ</td>\n",
       "      <td>34.048928</td>\n",
       "      <td>-111.093731</td>\n",
       "      <td>Arizona</td>\n",
       "    </tr>\n",
       "    <tr>\n",
       "      <th>4</th>\n",
       "      <td>CA</td>\n",
       "      <td>36.778261</td>\n",
       "      <td>-119.417932</td>\n",
       "      <td>California</td>\n",
       "    </tr>\n",
       "  </tbody>\n",
       "</table>\n",
       "</div>"
      ],
      "text/plain": [
       "  state   latitude   longitude customer_state\n",
       "0    AK  63.588753 -154.493062         Alaska\n",
       "1    AL  32.318231  -86.902298        Alabama\n",
       "2    AR  35.201050  -91.831833       Arkansas\n",
       "3    AZ  34.048928 -111.093731        Arizona\n",
       "4    CA  36.778261 -119.417932     California"
      ]
     },
     "execution_count": 19,
     "metadata": {},
     "output_type": "execute_result"
    }
   ],
   "source": [
    "long_lat.head()"
   ]
  },
  {
   "cell_type": "code",
   "execution_count": 20,
   "metadata": {},
   "outputs": [
    {
     "name": "stdout",
     "output_type": "stream",
     "text": [
      "<class 'pandas.core.frame.DataFrame'>\n",
      "RangeIndex: 52 entries, 0 to 51\n",
      "Data columns (total 4 columns):\n",
      " #   Column          Non-Null Count  Dtype  \n",
      "---  ------          --------------  -----  \n",
      " 0   state           52 non-null     object \n",
      " 1   latitude        52 non-null     float64\n",
      " 2   longitude       52 non-null     float64\n",
      " 3   customer_state  52 non-null     object \n",
      "dtypes: float64(2), object(2)\n",
      "memory usage: 1.8+ KB\n"
     ]
    }
   ],
   "source": [
    "long_lat.info()"
   ]
  },
  {
   "cell_type": "code",
   "execution_count": 22,
   "metadata": {},
   "outputs": [
    {
     "data": {
      "text/plain": [
       "(52, 4)"
      ]
     },
     "execution_count": 22,
     "metadata": {},
     "output_type": "execute_result"
    }
   ],
   "source": [
    "long_lat.shape"
   ]
  },
  {
   "cell_type": "code",
   "execution_count": 21,
   "metadata": {},
   "outputs": [
    {
     "data": {
      "text/plain": [
       "state             0\n",
       "latitude          0\n",
       "longitude         0\n",
       "customer_state    0\n",
       "dtype: int64"
      ]
     },
     "execution_count": 21,
     "metadata": {},
     "output_type": "execute_result"
    }
   ],
   "source": [
    "long_lat.isnull().sum()"
   ]
  },
  {
   "cell_type": "code",
   "execution_count": 25,
   "metadata": {},
   "outputs": [],
   "source": [
    "long_lat.to_csv('us_state_long_lat_codes.csv')"
   ]
  },
  {
   "cell_type": "code",
   "execution_count": null,
   "metadata": {},
   "outputs": [],
   "source": []
  }
 ],
 "metadata": {
  "kernelspec": {
   "display_name": "base",
   "language": "python",
   "name": "python3"
  },
  "language_info": {
   "codemirror_mode": {
    "name": "ipython",
    "version": 3
   },
   "file_extension": ".py",
   "mimetype": "text/x-python",
   "name": "python",
   "nbconvert_exporter": "python",
   "pygments_lexer": "ipython3",
   "version": "3.12.3"
  }
 },
 "nbformat": 4,
 "nbformat_minor": 2
}
